{
 "cells": [
  {
   "cell_type": "markdown",
   "metadata": {},
   "source": [
    "# Load Decryption Key"
   ]
  },
  {
   "cell_type": "code",
   "execution_count": 7,
   "metadata": {},
   "outputs": [],
   "source": [
    "from view_schema import get_df_from_db"
   ]
  },
  {
   "cell_type": "code",
   "execution_count": 8,
   "metadata": {},
   "outputs": [],
   "source": [
    "USERS = get_df_from_db(\"user/users.db\")"
   ]
  },
  {
   "cell_type": "code",
   "execution_count": 9,
   "metadata": {},
   "outputs": [
    {
     "data": {
      "text/html": [
       "<div>\n",
       "<style scoped>\n",
       "    .dataframe tbody tr th:only-of-type {\n",
       "        vertical-align: middle;\n",
       "    }\n",
       "\n",
       "    .dataframe tbody tr th {\n",
       "        vertical-align: top;\n",
       "    }\n",
       "\n",
       "    .dataframe thead th {\n",
       "        text-align: right;\n",
       "    }\n",
       "</style>\n",
       "<table border=\"1\" class=\"dataframe\">\n",
       "  <thead>\n",
       "    <tr style=\"text-align: right;\">\n",
       "      <th></th>\n",
       "      <th>id</th>\n",
       "      <th>username</th>\n",
       "      <th>password_hash</th>\n",
       "      <th>image_1</th>\n",
       "      <th>image_2</th>\n",
       "      <th>image_3</th>\n",
       "      <th>embedding</th>\n",
       "    </tr>\n",
       "  </thead>\n",
       "  <tbody>\n",
       "    <tr>\n",
       "      <th>0</th>\n",
       "      <td>1</td>\n",
       "      <td>armaan</td>\n",
       "      <td>scrypt:32768:8:1$i9At0I8gpYD5v4Nu$c395e77249ec...</td>\n",
       "      <td>b'gAAAAABleCMgtJr6f-qZeBMtdYoQypqhY6yDubNnAOGo...</td>\n",
       "      <td>b'gAAAAABleCMh2wBzbcD15HpthszQt_cYHrT2NKS79GR9...</td>\n",
       "      <td>b'gAAAAABleCMikol-zfO0LV0kE08XT11X4utpg1X4O_l9...</td>\n",
       "      <td>b'gAAAAABleCMgYnKcqWbQuT807qUhnnJZHKRl-FJFk74Z...</td>\n",
       "    </tr>\n",
       "    <tr>\n",
       "      <th>1</th>\n",
       "      <td>2</td>\n",
       "      <td>foo</td>\n",
       "      <td>scrypt:32768:8:1$xPkInVfCGqPDZPPJ$14f3cd500719...</td>\n",
       "      <td>b'gAAAAABleCNW5MM8Kkpf_e9_jxyMDhPSX0cUxzK38Rbv...</td>\n",
       "      <td>b'gAAAAABleCNXeG-w0hM44u-eg1Ls-jWAV9dq7gPreAfC...</td>\n",
       "      <td>b'gAAAAABleCNYVoPcYopS5xJ26iweT0_j6Iy8HxQJkg9v...</td>\n",
       "      <td>b'gAAAAABleCNWHNzpG7skohT-Lbh6cLWzE3oxat3bpQHK...</td>\n",
       "    </tr>\n",
       "    <tr>\n",
       "      <th>2</th>\n",
       "      <td>3</td>\n",
       "      <td>bar</td>\n",
       "      <td>scrypt:32768:8:1$OnaH0h1r0P41NzVS$6032c5649e4a...</td>\n",
       "      <td>b'gAAAAABleCN9T55INWSEQ9PXC6TgGX7DVcgfpAolCXIs...</td>\n",
       "      <td>b'gAAAAABleCN_avIs5LEEJDlljwfrRU2eyr-hclI5T8be...</td>\n",
       "      <td>b'gAAAAABleCN_F34ugc9j8AqYLArD4mpFFl_EnoDp-xag...</td>\n",
       "      <td>b'gAAAAABleCN9sYY83l_0wXcGYVxdWOhYAS4uyJ6Yo6jk...</td>\n",
       "    </tr>\n",
       "  </tbody>\n",
       "</table>\n",
       "</div>"
      ],
      "text/plain": [
       "   id  ...                                          embedding\n",
       "0   1  ...  b'gAAAAABleCMgYnKcqWbQuT807qUhnnJZHKRl-FJFk74Z...\n",
       "1   2  ...  b'gAAAAABleCNWHNzpG7skohT-Lbh6cLWzE3oxat3bpQHK...\n",
       "2   3  ...  b'gAAAAABleCN9sYY83l_0wXcGYVxdWOhYAS4uyJ6Yo6jk...\n",
       "\n",
       "[3 rows x 7 columns]"
      ]
     },
     "execution_count": 9,
     "metadata": {},
     "output_type": "execute_result"
    }
   ],
   "source": [
    "USERS"
   ]
  },
  {
   "cell_type": "code",
   "execution_count": null,
   "metadata": {},
   "outputs": [],
   "source": []
  }
 ],
 "metadata": {
  "kernelspec": {
   "display_name": "cyberenv",
   "language": "python",
   "name": "python3"
  },
  "language_info": {
   "codemirror_mode": {
    "name": "ipython",
    "version": 3
   },
   "file_extension": ".py",
   "mimetype": "text/x-python",
   "name": "python",
   "nbconvert_exporter": "python",
   "pygments_lexer": "ipython3",
   "version": "3.11.6"
  }
 },
 "nbformat": 4,
 "nbformat_minor": 2
}
