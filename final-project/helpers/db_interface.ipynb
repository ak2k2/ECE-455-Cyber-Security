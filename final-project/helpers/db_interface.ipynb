{
 "cells": [
  {
   "cell_type": "code",
   "execution_count": null,
   "metadata": {},
   "outputs": [],
   "source": [
    "import sqlite3\n",
    "\n",
    "import pandas as pd\n",
    "\n",
    "# Define the path to the database\n",
    "db_path = \"../user/users.db\"\n",
    "\n",
    "# Connect to the SQLite database\n",
    "conn = sqlite3.connect(db_path)\n",
    "\n",
    "# Load the user table into a pandas DataFrame\n",
    "user_df = pd.read_sql_query(\"SELECT * FROM user\", conn)\n",
    "\n",
    "# Close the database connection\n",
    "conn.close()\n",
    "\n",
    "# Display the DataFrame\n",
    "user_df.head()"
   ]
  },
  {
   "cell_type": "code",
   "execution_count": null,
   "metadata": {},
   "outputs": [],
   "source": [
    "import io\n",
    "\n",
    "import matplotlib.pyplot as plt\n",
    "from PIL import Image\n",
    "\n",
    "if (\n",
    "    not user_df.empty\n",
    "    and \"image_data\" in user_df.columns\n",
    "    and user_df[\"image_data\"][0] is not None\n",
    "): \n",
    "    # Convert binary data to an image\n",
    "    image_bytes = io.BytesIO(user_df[\"image_data\"][0])\n",
    "    image = Image.open(image_bytes)\n",
    "\n",
    "    # Display the image\n",
    "    plt.imshow(image)\n",
    "    plt.axis(\"off\")  # Turn off axis numbers\n",
    "    plt.show()\n",
    "else:\n",
    "    print(\"No image data available or the 'image_data' column is missing.\")"
   ]
  }
 ],
 "metadata": {
  "kernelspec": {
   "display_name": "cyberenv",
   "language": "python",
   "name": "python3"
  },
  "language_info": {
   "codemirror_mode": {
    "name": "ipython",
    "version": 3
   },
   "file_extension": ".py",
   "mimetype": "text/x-python",
   "name": "python",
   "nbconvert_exporter": "python",
   "pygments_lexer": "ipython3",
   "version": "3.11.6"
  }
 },
 "nbformat": 4,
 "nbformat_minor": 2
}
